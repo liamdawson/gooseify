{
 "cells": [
  {
   "cell_type": "code",
   "execution_count": 1,
   "metadata": {},
   "outputs": [
    {
     "data": {
      "application/vnd.jupyter.widget-view+json": {
       "model_id": "206eb1698b834b9a924f91aa288c1673",
       "version_major": 2,
       "version_minor": 0
      },
      "text/plain": [
       "interactive(children=(FileUpload(value={}, accept='.wav,.mp3', description='Upload', icon='magic'), Output()),…"
      ]
     },
     "metadata": {},
     "output_type": "display_data"
    }
   ],
   "source": [
    "import ipywidgets as widgets\n",
    "import math\n",
    "import os\n",
    "import random\n",
    "import tempfile\n",
    "\n",
    "from pydub import AudioSegment\n",
    "from ipywidgets import interact\n",
    "\n",
    "honk = AudioSegment.from_file('/home/jovyan/work/media/Honk1.mp3')\n",
    "watermark = AudioSegment.silent(duration=1800, frame_rate=honk.frame_rate).overlay(honk)\n",
    "\n",
    "@interact(data=widgets.FileUpload(accept='.wav,.mp3', multiple=False, icon='magic'))\n",
    "def process_widget(data):\n",
    "    if data:\n",
    "        filename = list(data)[0]\n",
    "        file = data[filename]\n",
    "        \n",
    "        return process_file(filename, file['content'])\n",
    "\n",
    "def process_file(name, data):\n",
    "    # TODO: avoidable?\n",
    "    with tempfile.TemporaryFile() as f:\n",
    "        f.write(data)\n",
    "        f.seek(0)\n",
    "        \n",
    "        return AudioSegment.from_file(f).overlay(watermark, position=2000, loop=True)"
   ]
  },
  {
   "cell_type": "code",
   "execution_count": 4,
   "metadata": {},
   "outputs": [
    {
     "name": "stdout",
     "output_type": "stream",
     "text": [
      "Created lengthened honk soundbyte\n"
     ]
    }
   ],
   "source": [
    "import ipywidgets as widgets\n",
    "import math\n",
    "import os\n",
    "import random\n",
    "import tempfile\n",
    "\n",
    "from pydub import AudioSegment\n",
    "from ipywidgets import interact\n",
    "\n",
    "honk = AudioSegment.from_file('/home/jovyan/work/media/Honk1.mp3')\n",
    "watermark = AudioSegment.silent(duration=1800, frame_rate=honk.frame_rate).overlay(honk)\n",
    "watermark.export('/home/jovyan/work/media/honk-extended.mp3')\n",
    "\n",
    "print(\"Created lengthened honk soundbyte\")"
   ]
  }
 ],
 "metadata": {
  "file_extension": ".py",
  "kernelspec": {
   "display_name": "Python 3",
   "language": "python",
   "name": "python3"
  },
  "language_info": {
   "codemirror_mode": {
    "name": "ipython",
    "version": 3
   },
   "file_extension": ".py",
   "mimetype": "text/x-python",
   "name": "python",
   "nbconvert_exporter": "python",
   "pygments_lexer": "ipython3",
   "version": "3.7.3"
  },
  "mimetype": "text/x-python",
  "name": "python",
  "npconvert_exporter": "python",
  "pygments_lexer": "ipython3",
  "version": 3
 },
 "nbformat": 4,
 "nbformat_minor": 4
}
